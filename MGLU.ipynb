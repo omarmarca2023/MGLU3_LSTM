{
 "cells": [
  {
   "cell_type": "markdown",
   "id": "42f1ba7e",
   "metadata": {},
   "source": [
    "# Previsão de preço de ações usando LSTM"
   ]
  },
  {
   "cell_type": "markdown",
   "id": "06e2be47",
   "metadata": {},
   "source": [
    "- Os preços no mercado de ações exibem imprevisibilidade e alta volatilidade. Isso implica que não existem padrões consistentes nos dados que permitam uma modelagem praticamente perfeita dos preços das ações ao longo do tempo."
   ]
  },
  {
   "cell_type": "markdown",
   "id": "49019ea5",
   "metadata": {},
   "source": [
    "## 1. Problema de Negócio"
   ]
  },
  {
   "cell_type": "markdown",
   "id": "ce583a0a",
   "metadata": {},
   "source": [
    "- Imagine que você é um investidor novato e deseja obter informações sobre se os preços das ações vão se valorizar ou desvalorizar em um período próximo.\n",
    "\n",
    "\n",
    "- Você decide desenvolver um modelo de previsão de preço de fechamento para as ações da MAGAZINE LUIZA (MGLU3), com a capacidade de estimar os preços até 10 dias no futuro, utilizando uma rede LSTM (Long Short-Term Memory).\n",
    "\n",
    "\n",
    "- Você opta por adquirir informações de cotações de ações no Yahoo Finance utilizando Python em um intervalo de tempo definido e, posteriormente, conduzir análises com base nesses dados."
   ]
  },
  {
   "cell_type": "markdown",
   "id": "bc98b8b9",
   "metadata": {},
   "source": [
    "## 2. Importar bibliotecas e conjunto de dados"
   ]
  },
  {
   "cell_type": "markdown",
   "id": "1298d362",
   "metadata": {},
   "source": [
    "- Existem várias abordagens para coletar cotações de ações do Yahoo Finance com Python. Neste projeto, faremos uso das bibliotecas pandas_datareader e yfinance."
   ]
  },
  {
   "cell_type": "code",
   "execution_count": 1,
   "id": "c11fb49e",
   "metadata": {},
   "outputs": [],
   "source": [
    "# Importando as bibliotecas\n",
    "\n",
    "import pandas as pd\n",
    "import seaborn as sns\n",
    "import matplotlib.pyplot as plt\n",
    "import numpy as np\n",
    "import pandas_datareader.data as pdr\n",
    "import yfinance as yf\n",
    "\n",
    "# Ajustar o pandas-datareader utilizando a biblioteca yfinance para resolver problemas (bugs).\n",
    "\n",
    "yf.pdr_override()\n"
   ]
  },
  {
   "cell_type": "code",
   "execution_count": 2,
   "id": "e514b00e",
   "metadata": {},
   "outputs": [
    {
     "name": "stdout",
     "output_type": "stream",
     "text": [
      "[*********************100%%**********************]  1 of 1 completed\n"
     ]
    },
    {
     "data": {
      "text/html": [
       "<div>\n",
       "<style scoped>\n",
       "    .dataframe tbody tr th:only-of-type {\n",
       "        vertical-align: middle;\n",
       "    }\n",
       "\n",
       "    .dataframe tbody tr th {\n",
       "        vertical-align: top;\n",
       "    }\n",
       "\n",
       "    .dataframe thead th {\n",
       "        text-align: right;\n",
       "    }\n",
       "</style>\n",
       "<table border=\"1\" class=\"dataframe\">\n",
       "  <thead>\n",
       "    <tr style=\"text-align: right;\">\n",
       "      <th></th>\n",
       "      <th>Open</th>\n",
       "      <th>High</th>\n",
       "      <th>Low</th>\n",
       "      <th>Close</th>\n",
       "      <th>Adj Close</th>\n",
       "      <th>Volume</th>\n",
       "    </tr>\n",
       "    <tr>\n",
       "      <th>Date</th>\n",
       "      <th></th>\n",
       "      <th></th>\n",
       "      <th></th>\n",
       "      <th></th>\n",
       "      <th></th>\n",
       "      <th></th>\n",
       "    </tr>\n",
       "  </thead>\n",
       "  <tbody>\n",
       "    <tr>\n",
       "      <th>2014-01-02</th>\n",
       "      <td>0.237812</td>\n",
       "      <td>0.244375</td>\n",
       "      <td>0.217187</td>\n",
       "      <td>0.225937</td>\n",
       "      <td>0.203836</td>\n",
       "      <td>40896000</td>\n",
       "    </tr>\n",
       "    <tr>\n",
       "      <th>2014-01-03</th>\n",
       "      <td>0.228125</td>\n",
       "      <td>0.234062</td>\n",
       "      <td>0.220937</td>\n",
       "      <td>0.233437</td>\n",
       "      <td>0.210603</td>\n",
       "      <td>25686400</td>\n",
       "    </tr>\n",
       "    <tr>\n",
       "      <th>2014-01-06</th>\n",
       "      <td>0.234375</td>\n",
       "      <td>0.246875</td>\n",
       "      <td>0.234062</td>\n",
       "      <td>0.245625</td>\n",
       "      <td>0.221599</td>\n",
       "      <td>19190400</td>\n",
       "    </tr>\n",
       "    <tr>\n",
       "      <th>2014-01-07</th>\n",
       "      <td>0.246875</td>\n",
       "      <td>0.258437</td>\n",
       "      <td>0.246875</td>\n",
       "      <td>0.251875</td>\n",
       "      <td>0.227237</td>\n",
       "      <td>40121600</td>\n",
       "    </tr>\n",
       "    <tr>\n",
       "      <th>2014-01-08</th>\n",
       "      <td>0.251250</td>\n",
       "      <td>0.257500</td>\n",
       "      <td>0.250312</td>\n",
       "      <td>0.256875</td>\n",
       "      <td>0.231748</td>\n",
       "      <td>25312000</td>\n",
       "    </tr>\n",
       "    <tr>\n",
       "      <th>...</th>\n",
       "      <td>...</td>\n",
       "      <td>...</td>\n",
       "      <td>...</td>\n",
       "      <td>...</td>\n",
       "      <td>...</td>\n",
       "      <td>...</td>\n",
       "    </tr>\n",
       "    <tr>\n",
       "      <th>2023-10-30</th>\n",
       "      <td>1.460000</td>\n",
       "      <td>1.470000</td>\n",
       "      <td>1.350000</td>\n",
       "      <td>1.370000</td>\n",
       "      <td>1.370000</td>\n",
       "      <td>79975400</td>\n",
       "    </tr>\n",
       "    <tr>\n",
       "      <th>2023-10-31</th>\n",
       "      <td>1.370000</td>\n",
       "      <td>1.380000</td>\n",
       "      <td>1.330000</td>\n",
       "      <td>1.330000</td>\n",
       "      <td>1.330000</td>\n",
       "      <td>145094800</td>\n",
       "    </tr>\n",
       "    <tr>\n",
       "      <th>2023-11-01</th>\n",
       "      <td>1.330000</td>\n",
       "      <td>1.360000</td>\n",
       "      <td>1.310000</td>\n",
       "      <td>1.330000</td>\n",
       "      <td>1.330000</td>\n",
       "      <td>138930300</td>\n",
       "    </tr>\n",
       "    <tr>\n",
       "      <th>2023-11-03</th>\n",
       "      <td>1.370000</td>\n",
       "      <td>1.540000</td>\n",
       "      <td>1.360000</td>\n",
       "      <td>1.490000</td>\n",
       "      <td>1.490000</td>\n",
       "      <td>247857700</td>\n",
       "    </tr>\n",
       "    <tr>\n",
       "      <th>2023-11-06</th>\n",
       "      <td>1.510000</td>\n",
       "      <td>1.570000</td>\n",
       "      <td>1.400000</td>\n",
       "      <td>1.430000</td>\n",
       "      <td>1.430000</td>\n",
       "      <td>160250000</td>\n",
       "    </tr>\n",
       "  </tbody>\n",
       "</table>\n",
       "<p>2448 rows × 6 columns</p>\n",
       "</div>"
      ],
      "text/plain": [
       "                Open      High       Low     Close  Adj Close     Volume\n",
       "Date                                                                    \n",
       "2014-01-02  0.237812  0.244375  0.217187  0.225937   0.203836   40896000\n",
       "2014-01-03  0.228125  0.234062  0.220937  0.233437   0.210603   25686400\n",
       "2014-01-06  0.234375  0.246875  0.234062  0.245625   0.221599   19190400\n",
       "2014-01-07  0.246875  0.258437  0.246875  0.251875   0.227237   40121600\n",
       "2014-01-08  0.251250  0.257500  0.250312  0.256875   0.231748   25312000\n",
       "...              ...       ...       ...       ...        ...        ...\n",
       "2023-10-30  1.460000  1.470000  1.350000  1.370000   1.370000   79975400\n",
       "2023-10-31  1.370000  1.380000  1.330000  1.330000   1.330000  145094800\n",
       "2023-11-01  1.330000  1.360000  1.310000  1.330000   1.330000  138930300\n",
       "2023-11-03  1.370000  1.540000  1.360000  1.490000   1.490000  247857700\n",
       "2023-11-06  1.510000  1.570000  1.400000  1.430000   1.430000  160250000\n",
       "\n",
       "[2448 rows x 6 columns]"
      ]
     },
     "execution_count": 2,
     "metadata": {},
     "output_type": "execute_result"
    }
   ],
   "source": [
    "# Obtendo dados da Magazine Luiza\n",
    "\n",
    "data_inicial = \"2014-01-01\"\n",
    "data_final = \"2023-11-07\"\n",
    "mglu = pdr.get_data_yahoo(\"MGLU3.SA\", data_inicial, data_final)\n",
    "mglu"
   ]
  },
  {
   "cell_type": "markdown",
   "id": "bbd6e19c",
   "metadata": {},
   "source": [
    "### Metadados:\n",
    "\n",
    ">  - Open: Abertura do preço das ações do dia\n",
    ">  - High: maior preço das ações do dia\n",
    ">  - Low: Menor preço das ações do dia\n",
    ">  - Close: Preço de fechamento das ações do dia\n",
    ">  - Adj Close: Preço de fechamento ajustado das ações do dia\n",
    ">  - Volume: número de ativos que foram comprados e vendidos no dia  "
   ]
  },
  {
   "cell_type": "markdown",
   "id": "522917bd",
   "metadata": {},
   "source": [
    "## 3. Exploração de Dados"
   ]
  },
  {
   "cell_type": "code",
   "execution_count": 3,
   "id": "601781a8",
   "metadata": {},
   "outputs": [
    {
     "name": "stdout",
     "output_type": "stream",
     "text": [
      "<class 'pandas.core.frame.DataFrame'>\n",
      "DatetimeIndex: 2448 entries, 2014-01-02 to 2023-11-06\n",
      "Data columns (total 6 columns):\n",
      " #   Column     Non-Null Count  Dtype  \n",
      "---  ------     --------------  -----  \n",
      " 0   Open       2448 non-null   float64\n",
      " 1   High       2448 non-null   float64\n",
      " 2   Low        2448 non-null   float64\n",
      " 3   Close      2448 non-null   float64\n",
      " 4   Adj Close  2448 non-null   float64\n",
      " 5   Volume     2448 non-null   int64  \n",
      "dtypes: float64(5), int64(1)\n",
      "memory usage: 133.9 KB\n"
     ]
    }
   ],
   "source": [
    "mglu.info()"
   ]
  },
  {
   "cell_type": "markdown",
   "id": "45ad571e",
   "metadata": {},
   "source": [
    "- Os dados estão organizados cronologicamente por data (a ordem dos dados é fundamental na modelagem de séries temporais).\n"
   ]
  },
  {
   "cell_type": "markdown",
   "id": "2413c084",
   "metadata": {},
   "source": [
    "###  Visualização de dados"
   ]
  },
  {
   "cell_type": "markdown",
   "id": "a4f98bb5",
   "metadata": {},
   "source": [
    "- Vamos utilizar o preço de fechamento e uma média móvel de 30 dias para analisar o comportamento dos preços das ações ao longo do tempo."
   ]
  },
  {
   "cell_type": "code",
   "execution_count": 4,
   "id": "86f36d99",
   "metadata": {},
   "outputs": [
    {
     "data": {
      "image/png": "[encoded data removed]",
      "text/plain": [
       "<Figure size 1080x576 with 1 Axes>"
      ]
     },
     "metadata": {
      "needs_background": "light"
     },
     "output_type": "display_data"
    }
   ],
   "source": [
    "mglu[\"Close\"].plot(legend=True, label=\"Preço Fechamento MGLU3\", figsize=(15,8))\n",
    "mglu[\"Close\"].rolling(30).mean().plot(legend=True, label=\"Media movil de 30 dias\", figsize=(15,8));"
   ]
  },
  {
   "cell_type": "markdown",
   "id": "a92b578b",
   "metadata": {},
   "source": [
    "- No momento, os preços do ativo estão em queda, o que é confirmado pela tendência descendente dela média móvel."
   ]
  },
  {
   "cell_type": "markdown",
   "id": "7e187da0",
   "metadata": {},
   "source": [
    "# 4. Modelagem"
   ]
  },
  {
   "cell_type": "markdown",
   "id": "274cc4ff",
   "metadata": {},
   "source": [
    "- O modelo será treinado usando o preço de fechamento do ativo."
   ]
  },
  {
   "cell_type": "code",
   "execution_count": 5,
   "id": "f187b5eb",
   "metadata": {},
   "outputs": [
    {
     "data": {
      "text/html": [
       "<div>\n",
       "<style scoped>\n",
       "    .dataframe tbody tr th:only-of-type {\n",
       "        vertical-align: middle;\n",
       "    }\n",
       "\n",
       "    .dataframe tbody tr th {\n",
       "        vertical-align: top;\n",
       "    }\n",
       "\n",
       "    .dataframe thead th {\n",
       "        text-align: right;\n",
       "    }\n",
       "</style>\n",
       "<table border=\"1\" class=\"dataframe\">\n",
       "  <thead>\n",
       "    <tr style=\"text-align: right;\">\n",
       "      <th></th>\n",
       "      <th>Close</th>\n",
       "    </tr>\n",
       "    <tr>\n",
       "      <th>Date</th>\n",
       "      <th></th>\n",
       "    </tr>\n",
       "  </thead>\n",
       "  <tbody>\n",
       "    <tr>\n",
       "      <th>2014-01-02</th>\n",
       "      <td>0.225937</td>\n",
       "    </tr>\n",
       "    <tr>\n",
       "      <th>2014-01-03</th>\n",
       "      <td>0.233437</td>\n",
       "    </tr>\n",
       "    <tr>\n",
       "      <th>2014-01-06</th>\n",
       "      <td>0.245625</td>\n",
       "    </tr>\n",
       "    <tr>\n",
       "      <th>2014-01-07</th>\n",
       "      <td>0.251875</td>\n",
       "    </tr>\n",
       "    <tr>\n",
       "      <th>2014-01-08</th>\n",
       "      <td>0.256875</td>\n",
       "    </tr>\n",
       "    <tr>\n",
       "      <th>...</th>\n",
       "      <td>...</td>\n",
       "    </tr>\n",
       "    <tr>\n",
       "      <th>2023-10-30</th>\n",
       "      <td>1.370000</td>\n",
       "    </tr>\n",
       "    <tr>\n",
       "      <th>2023-10-31</th>\n",
       "      <td>1.330000</td>\n",
       "    </tr>\n",
       "    <tr>\n",
       "      <th>2023-11-01</th>\n",
       "      <td>1.330000</td>\n",
       "    </tr>\n",
       "    <tr>\n",
       "      <th>2023-11-03</th>\n",
       "      <td>1.490000</td>\n",
       "    </tr>\n",
       "    <tr>\n",
       "      <th>2023-11-06</th>\n",
       "      <td>1.430000</td>\n",
       "    </tr>\n",
       "  </tbody>\n",
       "</table>\n",
       "<p>2448 rows × 1 columns</p>\n",
       "</div>"
      ],
      "text/plain": [
       "               Close\n",
       "Date                \n",
       "2014-01-02  0.225937\n",
       "2014-01-03  0.233437\n",
       "2014-01-06  0.245625\n",
       "2014-01-07  0.251875\n",
       "2014-01-08  0.256875\n",
       "...              ...\n",
       "2023-10-30  1.370000\n",
       "2023-10-31  1.330000\n",
       "2023-11-01  1.330000\n",
       "2023-11-03  1.490000\n",
       "2023-11-06  1.430000\n",
       "\n",
       "[2448 rows x 1 columns]"
      ]
     },
     "execution_count": 5,
     "metadata": {},
     "output_type": "execute_result"
    }
   ],
   "source": [
    "mglu_fechamento = mglu[[\"Close\"]]\n",
    "mglu_fechamento"
   ]
  },
  {
   "cell_type": "markdown",
   "id": "938f3d23",
   "metadata": {},
   "source": [
    "## 4.1 Pré-processamento de dados "
   ]
  },
  {
   "cell_type": "markdown",
   "id": "0ce5202b",
   "metadata": {},
   "source": [
    "### Verificar a quantidade de linhas"
   ]
  },
  {
   "cell_type": "code",
   "execution_count": 6,
   "id": "31cc4823",
   "metadata": {},
   "outputs": [
    {
     "data": {
      "text/plain": [
       "(1714, 734)"
      ]
     },
     "execution_count": 6,
     "metadata": {},
     "output_type": "execute_result"
    }
   ],
   "source": [
    "qtd_linhas = len(mglu_fechamento)\n",
    "qtd_treino = round(0.70*qtd_linhas)\n",
    "qtd_teste = qtd_linhas - qtd_treino\n",
    "\n",
    "qtd_treino, qtd_teste\n"
   ]
  },
  {
   "cell_type": "markdown",
   "id": "af6c0f16",
   "metadata": {},
   "source": [
    "- Vamos alocar 70% dos dados para o conjunto de treinamento, reservando as 30% restantes, que correspondem às últimas 734 linhas do conjunto de dados, para o conjunto de teste."
   ]
  },
  {
   "cell_type": "markdown",
   "id": "f93860a3",
   "metadata": {},
   "source": [
    "### Normalizando os dados"
   ]
  },
  {
   "cell_type": "markdown",
   "id": "4fe41fce",
   "metadata": {},
   "source": [
    "- As redes neurais LSTM  são sensíveis à escala dos dados de entrada, particularmente quando se utilizam funções de ativação como sigmoid ou tanh."
   ]
  },
  {
   "cell_type": "code",
   "execution_count": 7,
   "id": "d517e5ad",
   "metadata": {},
   "outputs": [],
   "source": [
    "from sklearn.preprocessing import StandardScaler\n",
    "\n",
    "scaler = StandardScaler()\n",
    "mglu_scaled = scaler.fit_transform(mglu_fechamento)"
   ]
  },
  {
   "cell_type": "markdown",
   "id": "f30e6911",
   "metadata": {},
   "source": [
    "### Separando em treino e teste"
   ]
  },
  {
   "cell_type": "code",
   "execution_count": 8,
   "id": "e0599f47",
   "metadata": {},
   "outputs": [],
   "source": [
    "train = mglu_scaled[:qtd_treino]\n",
    "test = mglu_scaled[qtd_treino:qtd_treino+qtd_teste]"
   ]
  },
  {
   "cell_type": "markdown",
   "id": "bae5190f",
   "metadata": {},
   "source": [
    "- A ordem dos dados é de extrema importância para as redes neurais LSTM, e é essencial manter a sequência temporal intacta."
   ]
  },
  {
   "cell_type": "markdown",
   "id": "a29fbc73",
   "metadata": {},
   "source": [
    "## 4.2 Criando dados com Timesteps"
   ]
  },
  {
   "cell_type": "markdown",
   "id": "3f02daad",
   "metadata": {},
   "source": [
    "- Ao trabalhar com redes neurais LSTM, é crucial manter os dados em um formato específico, organizando-os em n etapas de tempo . Posteriormente, podemos convertê-los em uma matriz NumPy para, por fim, transformá-los em uma estrutura de matriz adequada."
   ]
  },
  {
   "cell_type": "code",
   "execution_count": 9,
   "id": "f2a3e46e",
   "metadata": {},
   "outputs": [],
   "source": [
    "# convert an array of values into a df matrix \n",
    "\n",
    "def create_df(df, steps=1):\n",
    "  dataX, dataY =  [], []\n",
    "  for i in range(len(df)-steps-1):\n",
    "    a = df[i:(i+steps), 0]\n",
    "    dataX.append(a)\n",
    "    dataY.append(df[i+steps, 0])\n",
    "  return np.array(dataX), np.array(dataY)"
   ]
  },
  {
   "cell_type": "markdown",
   "id": "8549e03d",
   "metadata": {},
   "source": [
    "- A função recebe dois argumentos: o primeiro é o conjunto de dados, que deve ser uma matriz NumPy a ser convertida em um conjunto de dados, e o segundo é o 'steps', que representa o número de etapas de tempo anteriores usadas como variáveis de entrada para prever o próximo período de tempo."
   ]
  },
  {
   "cell_type": "markdown",
   "id": "71315489",
   "metadata": {},
   "source": [
    "### Generando dados de treino e teste"
   ]
  },
  {
   "cell_type": "markdown",
   "id": "5c144e98",
   "metadata": {},
   "source": [
    "- Vamos usar a função create_df para preparar os conjuntos de dados de treinamento e teste para modelagem.\n",
    "- Utilizar um steps de 15 dias para trás como um passo de previsão para o dia seguinte."
   ]
  },
  {
   "cell_type": "code",
   "execution_count": 10,
   "id": "f01b27a3",
   "metadata": {},
   "outputs": [],
   "source": [
    "steps = 15\n",
    "X_train, Y_train = create_df(train, steps)\n",
    "X_test, Y_test = create_df(test, steps)"
   ]
  },
  {
   "cell_type": "code",
   "execution_count": 11,
   "id": "b28af435",
   "metadata": {},
   "outputs": [
    {
     "name": "stdout",
     "output_type": "stream",
     "text": [
      "(1698, 15)\n",
      "(1698,)\n",
      "(718, 15)\n",
      "(718,)\n"
     ]
    }
   ],
   "source": [
    "print(X_train.shape)\n",
    "print(Y_train.shape)\n",
    "print(X_test.shape)\n",
    "print(Y_test.shape)"
   ]
  },
  {
   "cell_type": "markdown",
   "id": "5cfbc359",
   "metadata": {},
   "source": [
    "### Gerando os dados que o modelo espera"
   ]
  },
  {
   "cell_type": "markdown",
   "id": "e7f80816",
   "metadata": {},
   "source": [
    "- A camada de entrada LSTM requer que os dados sejam apresentados em uma matriz 3D com uma estrutura específica na forma de [samples, time steps, features]."
   ]
  },
  {
   "cell_type": "code",
   "execution_count": 12,
   "id": "4802fbc8",
   "metadata": {},
   "outputs": [],
   "source": [
    "X_train = X_train.reshape(X_train.shape[0], X_train.shape[1], 1)\n",
    "X_test = X_test.reshape(X_test.shape[0], X_test.shape[1], 1)"
   ]
  },
  {
   "cell_type": "code",
   "execution_count": 13,
   "id": "0c19f4e9",
   "metadata": {},
   "outputs": [
    {
     "data": {
      "text/plain": [
       "(1698, 15, 1)"
      ]
     },
     "execution_count": 13,
     "metadata": {},
     "output_type": "execute_result"
    }
   ],
   "source": [
    "X_train.shape"
   ]
  },
  {
   "cell_type": "markdown",
   "id": "7c582259",
   "metadata": {},
   "source": [
    "## 5. Montando a rede LSTM"
   ]
  },
  {
   "cell_type": "markdown",
   "id": "aafff199",
   "metadata": {},
   "source": [
    "- Iremos criar um modelo com uma camada de entrada, três camadas ocultas, cada uma com 35 neurônios, e uma camada de saída composta por um único neurônio. A especificação de 0.2 na camada Dropout indica que 20% das ativações nas camadas serão aleatoriamente descartadas durante o treinamento."
   ]
  },
  {
   "cell_type": "code",
   "execution_count": 14,
   "id": "174ca132",
   "metadata": {},
   "outputs": [],
   "source": [
    "from tensorflow.keras.models import Sequential\n",
    "from tensorflow.keras.layers import Dense, LSTM, Dropout\n",
    "\n",
    "model = Sequential()\n",
    "model.add(LSTM(35, return_sequences= True, input_shape=(steps, 1)))\n",
    "model.add(LSTM(35, return_sequences= True))\n",
    "model.add(LSTM(35))\n",
    "model.add(Dropout(0.2))\n",
    "model.add(Dense(1))"
   ]
  },
  {
   "cell_type": "code",
   "execution_count": 15,
   "id": "97658f08",
   "metadata": {},
   "outputs": [
    {
     "name": "stdout",
     "output_type": "stream",
     "text": [
      "Model: \"sequential\"\n",
      "_________________________________________________________________\n",
      " Layer (type)                Output Shape              Param #   \n",
      "=================================================================\n",
      " lstm (LSTM)                 (None, 15, 35)            5180      \n",
      "                                                                 \n",
      " lstm_1 (LSTM)               (None, 15, 35)            9940      \n",
      "                                                                 \n",
      " lstm_2 (LSTM)               (None, 35)                9940      \n",
      "                                                                 \n",
      " dropout (Dropout)           (None, 35)                0         \n",
      "                                                                 \n",
      " dense (Dense)               (None, 1)                 36        \n",
      "                                                                 \n",
      "=================================================================\n",
      "Total params: 25,096\n",
      "Trainable params: 25,096\n",
      "Non-trainable params: 0\n",
      "_________________________________________________________________\n"
     ]
    }
   ],
   "source": [
    "# Definição do otimizador e da função de perda\n",
    "model.compile(optimizer=\"adam\", loss=\"mse\")\n",
    "model.summary()"
   ]
  },
  {
   "cell_type": "markdown",
   "id": "6cb818af",
   "metadata": {},
   "source": [
    "### Treinamento do modelo"
   ]
  },
  {
   "cell_type": "code",
   "execution_count": 16,
   "id": "adc671fb",
   "metadata": {},
   "outputs": [
    {
     "name": "stdout",
     "output_type": "stream",
     "text": [
      "Epoch 1/100\n",
      "114/114 - 25s - loss: 0.0828 - val_loss: 0.0273 - 25s/epoch - 217ms/step\n",
      "Epoch 2/100\n",
      "114/114 - 4s - loss: 0.0191 - val_loss: 0.0594 - 4s/epoch - 34ms/step\n",
      "Epoch 3/100\n",
      "114/114 - 4s - loss: 0.0159 - val_loss: 0.0207 - 4s/epoch - 37ms/step\n",
      "Epoch 4/100\n",
      "114/114 - 5s - loss: 0.0173 - val_loss: 0.0188 - 5s/epoch - 42ms/step\n",
      "Epoch 5/100\n",
      "114/114 - 4s - loss: 0.0140 - val_loss: 0.0301 - 4s/epoch - 32ms/step\n",
      "Epoch 6/100\n",
      "114/114 - 3s - loss: 0.0132 - val_loss: 0.0154 - 3s/epoch - 29ms/step\n",
      "Epoch 7/100\n",
      "114/114 - 3s - loss: 0.0115 - val_loss: 0.0161 - 3s/epoch - 30ms/step\n",
      "Epoch 8/100\n",
      "114/114 - 4s - loss: 0.0137 - val_loss: 0.0213 - 4s/epoch - 33ms/step\n",
      "Epoch 9/100\n",
      "114/114 - 4s - loss: 0.0100 - val_loss: 0.0177 - 4s/epoch - 31ms/step\n",
      "Epoch 10/100\n",
      "114/114 - 3s - loss: 0.0122 - val_loss: 0.0165 - 3s/epoch - 29ms/step\n",
      "Epoch 11/100\n",
      "114/114 - 3s - loss: 0.0132 - val_loss: 0.0207 - 3s/epoch - 30ms/step\n",
      "Epoch 12/100\n",
      "114/114 - 3s - loss: 0.0126 - val_loss: 0.0135 - 3s/epoch - 30ms/step\n",
      "Epoch 13/100\n",
      "114/114 - 3s - loss: 0.0120 - val_loss: 0.0121 - 3s/epoch - 29ms/step\n",
      "Epoch 14/100\n",
      "114/114 - 3s - loss: 0.0098 - val_loss: 0.0191 - 3s/epoch - 29ms/step\n",
      "Epoch 15/100\n",
      "114/114 - 3s - loss: 0.0126 - val_loss: 0.0139 - 3s/epoch - 29ms/step\n",
      "Epoch 16/100\n",
      "114/114 - 3s - loss: 0.0118 - val_loss: 0.0097 - 3s/epoch - 29ms/step\n",
      "Epoch 17/100\n",
      "114/114 - 3s - loss: 0.0088 - val_loss: 0.0112 - 3s/epoch - 30ms/step\n",
      "Epoch 18/100\n",
      "114/114 - 3s - loss: 0.0107 - val_loss: 0.0113 - 3s/epoch - 28ms/step\n",
      "Epoch 19/100\n",
      "114/114 - 3s - loss: 0.0108 - val_loss: 0.0110 - 3s/epoch - 28ms/step\n",
      "Epoch 20/100\n",
      "114/114 - 3s - loss: 0.0102 - val_loss: 0.0124 - 3s/epoch - 30ms/step\n",
      "Epoch 21/100\n",
      "114/114 - 3s - loss: 0.0094 - val_loss: 0.0086 - 3s/epoch - 29ms/step\n",
      "Epoch 22/100\n",
      "114/114 - 3s - loss: 0.0110 - val_loss: 0.0134 - 3s/epoch - 29ms/step\n",
      "Epoch 23/100\n",
      "114/114 - 3s - loss: 0.0091 - val_loss: 0.0098 - 3s/epoch - 29ms/step\n",
      "Epoch 24/100\n",
      "114/114 - 3s - loss: 0.0104 - val_loss: 0.0080 - 3s/epoch - 29ms/step\n",
      "Epoch 25/100\n",
      "114/114 - 3s - loss: 0.0100 - val_loss: 0.0143 - 3s/epoch - 29ms/step\n",
      "Epoch 26/100\n",
      "114/114 - 3s - loss: 0.0104 - val_loss: 0.0166 - 3s/epoch - 29ms/step\n",
      "Epoch 27/100\n",
      "114/114 - 3s - loss: 0.0089 - val_loss: 0.0088 - 3s/epoch - 29ms/step\n",
      "Epoch 28/100\n",
      "114/114 - 3s - loss: 0.0085 - val_loss: 0.0101 - 3s/epoch - 30ms/step\n",
      "Epoch 29/100\n",
      "114/114 - 3s - loss: 0.0085 - val_loss: 0.0127 - 3s/epoch - 28ms/step\n",
      "Epoch 30/100\n",
      "114/114 - 3s - loss: 0.0093 - val_loss: 0.0057 - 3s/epoch - 28ms/step\n",
      "Epoch 31/100\n",
      "114/114 - 3s - loss: 0.0101 - val_loss: 0.0070 - 3s/epoch - 29ms/step\n",
      "Epoch 32/100\n",
      "114/114 - 3s - loss: 0.0078 - val_loss: 0.0060 - 3s/epoch - 27ms/step\n",
      "Epoch 33/100\n",
      "114/114 - 3s - loss: 0.0096 - val_loss: 0.0066 - 3s/epoch - 26ms/step\n",
      "Epoch 34/100\n",
      "114/114 - 3s - loss: 0.0081 - val_loss: 0.0080 - 3s/epoch - 26ms/step\n",
      "Epoch 35/100\n",
      "114/114 - 3s - loss: 0.0087 - val_loss: 0.0060 - 3s/epoch - 26ms/step\n",
      "Epoch 36/100\n",
      "114/114 - 3s - loss: 0.0088 - val_loss: 0.0052 - 3s/epoch - 26ms/step\n",
      "Epoch 37/100\n",
      "114/114 - 3s - loss: 0.0091 - val_loss: 0.0057 - 3s/epoch - 26ms/step\n",
      "Epoch 38/100\n",
      "114/114 - 3s - loss: 0.0085 - val_loss: 0.0047 - 3s/epoch - 26ms/step\n",
      "Epoch 39/100\n",
      "114/114 - 3s - loss: 0.0089 - val_loss: 0.0131 - 3s/epoch - 26ms/step\n",
      "Epoch 40/100\n",
      "114/114 - 3s - loss: 0.0074 - val_loss: 0.0049 - 3s/epoch - 26ms/step\n",
      "Epoch 41/100\n",
      "114/114 - 3s - loss: 0.0091 - val_loss: 0.0045 - 3s/epoch - 25ms/step\n",
      "Epoch 42/100\n",
      "114/114 - 3s - loss: 0.0079 - val_loss: 0.0055 - 3s/epoch - 25ms/step\n",
      "Epoch 43/100\n",
      "114/114 - 3s - loss: 0.0090 - val_loss: 0.0053 - 3s/epoch - 25ms/step\n",
      "Epoch 44/100\n",
      "114/114 - 3s - loss: 0.0081 - val_loss: 0.0143 - 3s/epoch - 26ms/step\n",
      "Epoch 45/100\n",
      "114/114 - 3s - loss: 0.0079 - val_loss: 0.0087 - 3s/epoch - 25ms/step\n",
      "Epoch 46/100\n",
      "114/114 - 3s - loss: 0.0084 - val_loss: 0.0055 - 3s/epoch - 25ms/step\n",
      "Epoch 47/100\n",
      "114/114 - 3s - loss: 0.0071 - val_loss: 0.0045 - 3s/epoch - 26ms/step\n",
      "Epoch 48/100\n",
      "114/114 - 3s - loss: 0.0075 - val_loss: 0.0041 - 3s/epoch - 26ms/step\n",
      "Epoch 49/100\n",
      "114/114 - 3s - loss: 0.0069 - val_loss: 0.0039 - 3s/epoch - 25ms/step\n",
      "Epoch 50/100\n",
      "114/114 - 3s - loss: 0.0078 - val_loss: 0.0041 - 3s/epoch - 26ms/step\n",
      "Epoch 51/100\n",
      "114/114 - 3s - loss: 0.0082 - val_loss: 0.0042 - 3s/epoch - 25ms/step\n",
      "Epoch 52/100\n",
      "114/114 - 3s - loss: 0.0082 - val_loss: 0.0062 - 3s/epoch - 27ms/step\n",
      "Epoch 53/100\n",
      "114/114 - 3s - loss: 0.0078 - val_loss: 0.0038 - 3s/epoch - 26ms/step\n",
      "Epoch 54/100\n",
      "114/114 - 3s - loss: 0.0086 - val_loss: 0.0045 - 3s/epoch - 26ms/step\n",
      "Epoch 55/100\n",
      "114/114 - 3s - loss: 0.0079 - val_loss: 0.0065 - 3s/epoch - 26ms/step\n",
      "Epoch 56/100\n",
      "114/114 - 3s - loss: 0.0077 - val_loss: 0.0043 - 3s/epoch - 25ms/step\n",
      "Epoch 57/100\n",
      "114/114 - 3s - loss: 0.0068 - val_loss: 0.0053 - 3s/epoch - 25ms/step\n",
      "Epoch 58/100\n",
      "114/114 - 3s - loss: 0.0073 - val_loss: 0.0059 - 3s/epoch - 25ms/step\n",
      "Epoch 59/100\n",
      "114/114 - 3s - loss: 0.0071 - val_loss: 0.0040 - 3s/epoch - 26ms/step\n",
      "Epoch 60/100\n",
      "114/114 - 3s - loss: 0.0081 - val_loss: 0.0178 - 3s/epoch - 26ms/step\n",
      "Epoch 61/100\n",
      "114/114 - 3s - loss: 0.0102 - val_loss: 0.0042 - 3s/epoch - 27ms/step\n",
      "Epoch 62/100\n",
      "114/114 - 3s - loss: 0.0098 - val_loss: 0.0039 - 3s/epoch - 27ms/step\n",
      "Epoch 63/100\n",
      "114/114 - 3s - loss: 0.0071 - val_loss: 0.0060 - 3s/epoch - 26ms/step\n",
      "Epoch 64/100\n",
      "114/114 - 3s - loss: 0.0081 - val_loss: 0.0076 - 3s/epoch - 26ms/step\n",
      "Epoch 65/100\n",
      "114/114 - 3s - loss: 0.0082 - val_loss: 0.0156 - 3s/epoch - 26ms/step\n",
      "Epoch 66/100\n",
      "114/114 - 3s - loss: 0.0075 - val_loss: 0.0052 - 3s/epoch - 25ms/step\n",
      "Epoch 67/100\n",
      "114/114 - 3s - loss: 0.0093 - val_loss: 0.0070 - 3s/epoch - 26ms/step\n",
      "Epoch 68/100\n",
      "114/114 - 3s - loss: 0.0075 - val_loss: 0.0057 - 3s/epoch - 26ms/step\n",
      "Epoch 69/100\n",
      "114/114 - 3s - loss: 0.0071 - val_loss: 0.0038 - 3s/epoch - 27ms/step\n",
      "Epoch 70/100\n",
      "114/114 - 3s - loss: 0.0071 - val_loss: 0.0094 - 3s/epoch - 26ms/step\n",
      "Epoch 71/100\n",
      "114/114 - 3s - loss: 0.0081 - val_loss: 0.0047 - 3s/epoch - 26ms/step\n",
      "Epoch 72/100\n",
      "114/114 - 3s - loss: 0.0074 - val_loss: 0.0063 - 3s/epoch - 25ms/step\n",
      "Epoch 73/100\n",
      "114/114 - 3s - loss: 0.0084 - val_loss: 0.0039 - 3s/epoch - 26ms/step\n",
      "Epoch 74/100\n",
      "114/114 - 3s - loss: 0.0084 - val_loss: 0.0057 - 3s/epoch - 26ms/step\n",
      "Epoch 75/100\n",
      "114/114 - 3s - loss: 0.0069 - val_loss: 0.0034 - 3s/epoch - 26ms/step\n",
      "Epoch 76/100\n",
      "114/114 - 3s - loss: 0.0065 - val_loss: 0.0049 - 3s/epoch - 27ms/step\n",
      "Epoch 77/100\n",
      "114/114 - 3s - loss: 0.0066 - val_loss: 0.0044 - 3s/epoch - 26ms/step\n",
      "Epoch 78/100\n",
      "114/114 - 3s - loss: 0.0073 - val_loss: 0.0046 - 3s/epoch - 26ms/step\n",
      "Epoch 79/100\n",
      "114/114 - 3s - loss: 0.0068 - val_loss: 0.0040 - 3s/epoch - 25ms/step\n",
      "Epoch 80/100\n",
      "114/114 - 3s - loss: 0.0074 - val_loss: 0.0053 - 3s/epoch - 25ms/step\n",
      "Epoch 81/100\n",
      "114/114 - 3s - loss: 0.0074 - val_loss: 0.0062 - 3s/epoch - 25ms/step\n",
      "Epoch 82/100\n",
      "114/114 - 3s - loss: 0.0087 - val_loss: 0.0064 - 3s/epoch - 25ms/step\n",
      "Epoch 83/100\n",
      "114/114 - 3s - loss: 0.0075 - val_loss: 0.0036 - 3s/epoch - 25ms/step\n",
      "Epoch 84/100\n",
      "114/114 - 3s - loss: 0.0081 - val_loss: 0.0039 - 3s/epoch - 26ms/step\n",
      "Epoch 85/100\n",
      "114/114 - 3s - loss: 0.0079 - val_loss: 0.0129 - 3s/epoch - 26ms/step\n",
      "Epoch 86/100\n",
      "114/114 - 3s - loss: 0.0084 - val_loss: 0.0041 - 3s/epoch - 26ms/step\n",
      "Epoch 87/100\n",
      "114/114 - 3s - loss: 0.0067 - val_loss: 0.0041 - 3s/epoch - 26ms/step\n",
      "Epoch 88/100\n",
      "114/114 - 3s - loss: 0.0065 - val_loss: 0.0035 - 3s/epoch - 26ms/step\n",
      "Epoch 89/100\n",
      "114/114 - 3s - loss: 0.0072 - val_loss: 0.0054 - 3s/epoch - 26ms/step\n",
      "Epoch 90/100\n",
      "114/114 - 3s - loss: 0.0070 - val_loss: 0.0058 - 3s/epoch - 26ms/step\n",
      "Epoch 91/100\n",
      "114/114 - 3s - loss: 0.0088 - val_loss: 0.0033 - 3s/epoch - 26ms/step\n",
      "Epoch 92/100\n",
      "114/114 - 3s - loss: 0.0083 - val_loss: 0.0048 - 3s/epoch - 26ms/step\n",
      "Epoch 93/100\n",
      "114/114 - 3s - loss: 0.0094 - val_loss: 0.0044 - 3s/epoch - 26ms/step\n",
      "Epoch 94/100\n",
      "114/114 - 3s - loss: 0.0085 - val_loss: 0.0045 - 3s/epoch - 26ms/step\n",
      "Epoch 95/100\n",
      "114/114 - 3s - loss: 0.0070 - val_loss: 0.0035 - 3s/epoch - 27ms/step\n",
      "Epoch 96/100\n",
      "114/114 - 3s - loss: 0.0075 - val_loss: 0.0039 - 3s/epoch - 25ms/step\n",
      "Epoch 97/100\n",
      "114/114 - 3s - loss: 0.0074 - val_loss: 0.0035 - 3s/epoch - 25ms/step\n",
      "Epoch 98/100\n",
      "114/114 - 3s - loss: 0.0079 - val_loss: 0.0031 - 3s/epoch - 25ms/step\n",
      "Epoch 99/100\n",
      "114/114 - 3s - loss: 0.0076 - val_loss: 0.0046 - 3s/epoch - 25ms/step\n",
      "Epoch 100/100\n",
      "114/114 - 3s - loss: 0.0076 - val_loss: 0.0046 - 3s/epoch - 26ms/step\n"
     ]
    }
   ],
   "source": [
    "validation = model.fit(X_train, Y_train, validation_data=(X_test, Y_test), epochs=100, batch_size=15, verbose=2)"
   ]
  },
  {
   "cell_type": "markdown",
   "id": "dba1cf91",
   "metadata": {},
   "source": [
    "### Gráfico da Precisão de Treinamento e Precisão de Validação"
   ]
  },
  {
   "cell_type": "code",
   "execution_count": 17,
   "id": "d9e7d5f8",
   "metadata": {},
   "outputs": [
    {
     "data": {
      "image/png": "[encoded data removed]",
      "text/plain": [
       "<Figure size 864x432 with 1 Axes>"
      ]
     },
     "metadata": {
      "needs_background": "light"
     },
     "output_type": "display_data"
    }
   ],
   "source": [
    "plt.figure(figsize=(12,6))\n",
    "plt.plot(validation.history[\"loss\"], label=\"Trainnig loss\")\n",
    "plt.plot(validation.history[\"val_loss\"], label=\"Validation loss\")\n",
    "plt.xlabel('Epoch')\n",
    "plt.ylabel('MSE')\n",
    "plt.legend();"
   ]
  },
  {
   "cell_type": "markdown",
   "id": "8e76cc95",
   "metadata": {},
   "source": [
    "- Parece que o modelo não está se adaptando adequadamente aos dados durante o treinamento, no entanto, vamos continuar mesmo assim."
   ]
  },
  {
   "cell_type": "markdown",
   "id": "fe8a6a13",
   "metadata": {},
   "source": [
    "### Fazendo a previsão"
   ]
  },
  {
   "cell_type": "code",
   "execution_count": 18,
   "id": "1dc8c55d",
   "metadata": {},
   "outputs": [
    {
     "name": "stdout",
     "output_type": "stream",
     "text": [
      "23/23 [==============================] - 2s 9ms/step\n"
     ]
    },
    {
     "data": {
      "text/plain": [
       "array([[23.842642 ],\n",
       "       [24.141556 ],\n",
       "       [24.287333 ],\n",
       "       [23.847033 ],\n",
       "       [23.959106 ],\n",
       "       [24.444992 ],\n",
       "       [24.475468 ],\n",
       "       [24.250692 ],\n",
       "       [24.578817 ],\n",
       "       [24.566128 ],\n",
       "       [24.243544 ],\n",
       "       [24.562958 ],\n",
       "       [24.119345 ],\n",
       "       [22.959694 ],\n",
       "       [22.959896 ],\n",
       "       [23.696136 ],\n",
       "       [23.177069 ],\n",
       "       [23.850649 ],\n",
       "       [23.57494  ],\n",
       "       [23.29623  ],\n",
       "       [23.601688 ],\n",
       "       [24.028116 ],\n",
       "       [23.546164 ],\n",
       "       [24.853554 ],\n",
       "       [24.668943 ],\n",
       "       [25.068884 ],\n",
       "       [24.79608  ],\n",
       "       [24.911486 ],\n",
       "       [25.291048 ],\n",
       "       [24.363707 ],\n",
       "       [24.27413  ],\n",
       "       [24.732061 ],\n",
       "       [24.939602 ],\n",
       "       [24.516506 ],\n",
       "       [25.09164  ],\n",
       "       [25.270334 ],\n",
       "       [25.246325 ],\n",
       "       [24.396072 ],\n",
       "       [24.95714  ],\n",
       "       [25.13521  ],\n",
       "       [24.657753 ],\n",
       "       [24.338694 ],\n",
       "       [24.378399 ],\n",
       "       [23.75164  ],\n",
       "       [24.429108 ],\n",
       "       [24.107643 ],\n",
       "       [23.544159 ],\n",
       "       [23.80932  ],\n",
       "       [24.141085 ],\n",
       "       [23.757301 ],\n",
       "       [24.583559 ],\n",
       "       [24.71933  ],\n",
       "       [24.329618 ],\n",
       "       [22.482096 ],\n",
       "       [23.218102 ],\n",
       "       [24.64114  ],\n",
       "       [24.141422 ],\n",
       "       [23.894667 ],\n",
       "       [23.221422 ],\n",
       "       [23.825397 ],\n",
       "       [23.555334 ],\n",
       "       [21.908873 ],\n",
       "       [22.235556 ],\n",
       "       [21.954935 ],\n",
       "       [21.526342 ],\n",
       "       [20.40309  ],\n",
       "       [20.461885 ],\n",
       "       [20.201109 ],\n",
       "       [19.835302 ],\n",
       "       [20.266348 ],\n",
       "       [20.424278 ],\n",
       "       [20.552734 ],\n",
       "       [20.492294 ],\n",
       "       [20.67409  ],\n",
       "       [20.226946 ],\n",
       "       [21.957876 ],\n",
       "       [21.592762 ],\n",
       "       [21.477055 ],\n",
       "       [22.112303 ],\n",
       "       [21.972416 ],\n",
       "       [22.029497 ],\n",
       "       [21.765482 ],\n",
       "       [21.547546 ],\n",
       "       [21.563444 ],\n",
       "       [21.124186 ],\n",
       "       [21.763277 ],\n",
       "       [21.686255 ],\n",
       "       [20.850887 ],\n",
       "       [20.663662 ],\n",
       "       [20.368416 ],\n",
       "       [20.168005 ],\n",
       "       [20.34611  ],\n",
       "       [19.883965 ],\n",
       "       [20.046482 ],\n",
       "       [19.608917 ],\n",
       "       [20.064928 ],\n",
       "       [19.341764 ],\n",
       "       [19.470238 ],\n",
       "       [18.764935 ],\n",
       "       [19.345121 ],\n",
       "       [19.399446 ],\n",
       "       [19.028261 ],\n",
       "       [19.152391 ],\n",
       "       [18.881676 ],\n",
       "       [18.944675 ],\n",
       "       [18.745264 ],\n",
       "       [20.268686 ],\n",
       "       [20.197021 ],\n",
       "       [19.690104 ],\n",
       "       [19.675472 ],\n",
       "       [20.43473  ],\n",
       "       [20.277218 ],\n",
       "       [20.417622 ],\n",
       "       [20.580755 ],\n",
       "       [20.922966 ],\n",
       "       [20.819561 ],\n",
       "       [21.066603 ],\n",
       "       [20.245224 ],\n",
       "       [20.33912  ],\n",
       "       [20.518703 ],\n",
       "       [20.706095 ],\n",
       "       [20.965769 ],\n",
       "       [20.31218  ],\n",
       "       [21.393454 ],\n",
       "       [21.083902 ],\n",
       "       [21.233774 ],\n",
       "       [20.94102  ],\n",
       "       [20.578648 ],\n",
       "       [21.74166  ],\n",
       "       [21.357872 ],\n",
       "       [21.44665  ],\n",
       "       [21.622974 ],\n",
       "       [21.07293  ],\n",
       "       [20.665834 ],\n",
       "       [21.73545  ],\n",
       "       [21.366735 ],\n",
       "       [20.992037 ],\n",
       "       [22.031912 ],\n",
       "       [21.83668  ],\n",
       "       [21.953121 ],\n",
       "       [22.354145 ],\n",
       "       [22.730059 ],\n",
       "       [23.404943 ],\n",
       "       [23.423613 ],\n",
       "       [22.616589 ],\n",
       "       [23.068039 ],\n",
       "       [23.07724  ],\n",
       "       [22.931013 ],\n",
       "       [22.315588 ],\n",
       "       [21.893631 ],\n",
       "       [21.426718 ],\n",
       "       [21.595518 ],\n",
       "       [21.775629 ],\n",
       "       [20.558764 ],\n",
       "       [20.703619 ],\n",
       "       [20.586666 ],\n",
       "       [20.079638 ],\n",
       "       [20.621056 ],\n",
       "       [20.82561  ],\n",
       "       [20.53857  ],\n",
       "       [20.45133  ],\n",
       "       [21.016266 ],\n",
       "       [21.021152 ],\n",
       "       [20.236744 ],\n",
       "       [19.445343 ],\n",
       "       [19.477184 ],\n",
       "       [19.061821 ],\n",
       "       [19.175203 ],\n",
       "       [19.096851 ],\n",
       "       [18.313728 ],\n",
       "       [19.484777 ],\n",
       "       [19.832628 ],\n",
       "       [18.894796 ],\n",
       "       [19.164396 ],\n",
       "       [19.100159 ],\n",
       "       [18.411272 ],\n",
       "       [18.895313 ],\n",
       "       [18.248669 ],\n",
       "       [19.14305  ],\n",
       "       [19.774225 ],\n",
       "       [18.912292 ],\n",
       "       [18.973692 ],\n",
       "       [17.321552 ],\n",
       "       [17.598497 ],\n",
       "       [17.352201 ],\n",
       "       [16.895061 ],\n",
       "       [16.632643 ],\n",
       "       [16.866423 ],\n",
       "       [16.373676 ],\n",
       "       [16.66395  ],\n",
       "       [16.68243  ],\n",
       "       [16.174929 ],\n",
       "       [15.893463 ],\n",
       "       [15.303493 ],\n",
       "       [14.459604 ],\n",
       "       [14.167757 ],\n",
       "       [14.608118 ],\n",
       "       [14.941447 ],\n",
       "       [14.137198 ],\n",
       "       [13.941069 ],\n",
       "       [14.747019 ],\n",
       "       [14.503574 ],\n",
       "       [15.300882 ],\n",
       "       [14.854123 ],\n",
       "       [14.824678 ],\n",
       "       [14.541543 ],\n",
       "       [14.88329  ],\n",
       "       [14.695624 ],\n",
       "       [14.10146  ],\n",
       "       [13.583761 ],\n",
       "       [12.762236 ],\n",
       "       [12.637935 ],\n",
       "       [12.652147 ],\n",
       "       [12.374236 ],\n",
       "       [11.979963 ],\n",
       "       [11.525003 ],\n",
       "       [11.156205 ],\n",
       "       [11.505774 ],\n",
       "       [11.914862 ],\n",
       "       [11.617263 ],\n",
       "       [12.646755 ],\n",
       "       [12.543267 ],\n",
       "       [13.4664345],\n",
       "       [13.593148 ],\n",
       "       [14.088445 ],\n",
       "       [11.907233 ],\n",
       "       [10.170528 ],\n",
       "       [ 9.392811 ],\n",
       "       [ 9.123166 ],\n",
       "       [ 9.365437 ],\n",
       "       [ 9.265627 ],\n",
       "       [ 9.03863  ],\n",
       "       [ 9.108671 ],\n",
       "       [ 9.1087885],\n",
       "       [ 8.667692 ],\n",
       "       [ 8.427232 ],\n",
       "       [ 8.218181 ],\n",
       "       [ 7.5797796],\n",
       "       [ 7.1712236],\n",
       "       [ 7.210193 ],\n",
       "       [ 7.484136 ],\n",
       "       [ 7.861187 ],\n",
       "       [ 7.544869 ],\n",
       "       [ 6.9785767],\n",
       "       [ 6.715318 ],\n",
       "       [ 6.4805684],\n",
       "       [ 6.210727 ],\n",
       "       [ 6.2985945],\n",
       "       [ 6.5610604],\n",
       "       [ 6.878324 ],\n",
       "       [ 6.852599 ],\n",
       "       [ 6.815358 ],\n",
       "       [ 6.6500287],\n",
       "       [ 6.561105 ],\n",
       "       [ 6.8589334],\n",
       "       [ 7.11938  ],\n",
       "       [ 7.1866813],\n",
       "       [ 7.449035 ],\n",
       "       [ 7.3063283],\n",
       "       [ 7.0944023],\n",
       "       [ 6.8741784],\n",
       "       [ 6.6743894],\n",
       "       [ 6.5680904],\n",
       "       [ 6.2838354],\n",
       "       [ 6.1727233],\n",
       "       [ 6.397619 ],\n",
       "       [ 6.4722567],\n",
       "       [ 6.6048684],\n",
       "       [ 6.5689917],\n",
       "       [ 6.388429 ],\n",
       "       [ 6.4909763],\n",
       "       [ 6.799513 ],\n",
       "       [ 7.1369877],\n",
       "       [ 7.0009036],\n",
       "       [ 7.024668 ],\n",
       "       [ 7.0866637],\n",
       "       [ 7.398506 ],\n",
       "       [ 7.2855797],\n",
       "       [ 7.317585 ],\n",
       "       [ 7.3680325],\n",
       "       [ 7.1004   ],\n",
       "       [ 6.925564 ],\n",
       "       [ 6.7528315],\n",
       "       [ 6.6617374],\n",
       "       [ 6.767677 ],\n",
       "       [ 6.899728 ],\n",
       "       [ 7.165961 ],\n",
       "       [ 6.975997 ],\n",
       "       [ 6.8654647],\n",
       "       [ 7.035728 ],\n",
       "       [ 7.164023 ],\n",
       "       [ 7.1010647],\n",
       "       [ 6.8796477],\n",
       "       [ 6.5562773],\n",
       "       [ 6.404093 ],\n",
       "       [ 6.2848115],\n",
       "       [ 6.3464484],\n",
       "       [ 6.364239 ],\n",
       "       [ 6.5266438],\n",
       "       [ 6.6419616],\n",
       "       [ 6.674376 ],\n",
       "       [ 6.4320207],\n",
       "       [ 6.3567214],\n",
       "       [ 6.4556785],\n",
       "       [ 6.398048 ],\n",
       "       [ 6.191702 ],\n",
       "       [ 5.8730626],\n",
       "       [ 5.460535 ],\n",
       "       [ 5.3370576],\n",
       "       [ 5.5491314],\n",
       "       [ 5.89751  ],\n",
       "       [ 6.0601745],\n",
       "       [ 6.1440716],\n",
       "       [ 6.268184 ],\n",
       "       [ 6.667583 ],\n",
       "       [ 6.8906627],\n",
       "       [ 6.9112306],\n",
       "       [ 7.179717 ],\n",
       "       [ 7.278308 ],\n",
       "       [ 7.2530546],\n",
       "       [ 7.5307503],\n",
       "       [ 7.6176944],\n",
       "       [ 7.445908 ],\n",
       "       [ 7.1500125],\n",
       "       [ 6.9556417],\n",
       "       [ 6.6489596],\n",
       "       [ 6.453906 ],\n",
       "       [ 6.3290997],\n",
       "       [ 6.3189554],\n",
       "       [ 6.3336034],\n",
       "       [ 6.2850375],\n",
       "       [ 6.273858 ],\n",
       "       [ 6.105288 ],\n",
       "       [ 5.9516993],\n",
       "       [ 5.821204 ],\n",
       "       [ 5.6298313],\n",
       "       [ 5.4742327],\n",
       "       [ 5.43866  ],\n",
       "       [ 5.3084497],\n",
       "       [ 5.1739807],\n",
       "       [ 5.008332 ],\n",
       "       [ 5.065363 ],\n",
       "       [ 4.919173 ],\n",
       "       [ 4.7241645],\n",
       "       [ 4.43528  ],\n",
       "       [ 4.252353 ],\n",
       "       [ 4.16623  ],\n",
       "       [ 4.2439914],\n",
       "       [ 4.42556  ],\n",
       "       [ 4.561884 ],\n",
       "       [ 4.4385066],\n",
       "       [ 4.2004213],\n",
       "       [ 4.028947 ],\n",
       "       [ 3.9215412],\n",
       "       [ 3.8839326],\n",
       "       [ 3.8849533],\n",
       "       [ 3.8955255],\n",
       "       [ 4.0493574],\n",
       "       [ 4.162223 ],\n",
       "       [ 4.148422 ],\n",
       "       [ 4.0533533],\n",
       "       [ 3.968235 ],\n",
       "       [ 3.9553745],\n",
       "       [ 3.886931 ],\n",
       "       [ 3.751058 ],\n",
       "       [ 3.6042962],\n",
       "       [ 3.48294  ],\n",
       "       [ 3.3368866],\n",
       "       [ 3.1929922],\n",
       "       [ 3.0197804],\n",
       "       [ 2.849283 ],\n",
       "       [ 2.7385137],\n",
       "       [ 2.628047 ],\n",
       "       [ 2.6131058],\n",
       "       [ 2.615777 ],\n",
       "       [ 2.5948699],\n",
       "       [ 2.6050637],\n",
       "       [ 2.5980744],\n",
       "       [ 2.5710528],\n",
       "       [ 2.528803 ],\n",
       "       [ 2.50363  ],\n",
       "       [ 2.470765 ],\n",
       "       [ 2.3995647],\n",
       "       [ 2.313351 ],\n",
       "       [ 2.326637 ],\n",
       "       [ 2.4153793],\n",
       "       [ 2.5203462],\n",
       "       [ 2.614806 ],\n",
       "       [ 2.6778095],\n",
       "       [ 2.8110077],\n",
       "       [ 2.8963175],\n",
       "       [ 2.9597664],\n",
       "       [ 2.9529533],\n",
       "       [ 2.9208767],\n",
       "       [ 2.9008713],\n",
       "       [ 2.990375 ],\n",
       "       [ 3.0706694],\n",
       "       [ 3.0636468],\n",
       "       [ 3.0048206],\n",
       "       [ 2.8899481],\n",
       "       [ 2.8245847],\n",
       "       [ 2.80821  ],\n",
       "       [ 2.765962 ],\n",
       "       [ 2.7717314],\n",
       "       [ 2.7915509],\n",
       "       [ 2.8828602],\n",
       "       [ 3.1164684],\n",
       "       [ 3.2560813],\n",
       "       [ 3.347582 ],\n",
       "       [ 3.3260946],\n",
       "       [ 3.350722 ],\n",
       "       [ 3.2976484],\n",
       "       [ 3.4320428],\n",
       "       [ 3.771927 ],\n",
       "       [ 4.0981236],\n",
       "       [ 4.233952 ],\n",
       "       [ 4.2637453],\n",
       "       [ 4.154093 ],\n",
       "       [ 4.0630836],\n",
       "       [ 4.151161 ],\n",
       "       [ 4.4123974],\n",
       "       [ 4.7001514],\n",
       "       [ 4.829231 ],\n",
       "       [ 4.8321133],\n",
       "       [ 4.797608 ],\n",
       "       [ 4.6644864],\n",
       "       [ 4.602264 ],\n",
       "       [ 4.541028 ],\n",
       "       [ 4.529717 ],\n",
       "       [ 4.4033794],\n",
       "       [ 4.4149933],\n",
       "       [ 4.506386 ],\n",
       "       [ 4.7638493],\n",
       "       [ 4.9216676],\n",
       "       [ 4.876248 ],\n",
       "       [ 4.7380323],\n",
       "       [ 4.686005 ],\n",
       "       [ 4.725912 ],\n",
       "       [ 4.730085 ],\n",
       "       [ 4.8499994],\n",
       "       [ 4.8872004],\n",
       "       [ 4.8964114],\n",
       "       [ 4.8288813],\n",
       "       [ 4.638285 ],\n",
       "       [ 4.5568066],\n",
       "       [ 4.424013 ],\n",
       "       [ 4.509683 ],\n",
       "       [ 4.82247  ],\n",
       "       [ 5.1527424],\n",
       "       [ 5.3532786],\n",
       "       [ 5.5497885],\n",
       "       [ 5.626999 ],\n",
       "       [ 5.6407857],\n",
       "       [ 5.5590568],\n",
       "       [ 5.3711615],\n",
       "       [ 4.9921703],\n",
       "       [ 4.728589 ],\n",
       "       [ 4.5896106],\n",
       "       [ 4.4880147],\n",
       "       [ 4.395486 ],\n",
       "       [ 4.368739 ],\n",
       "       [ 4.343132 ],\n",
       "       [ 4.4146147],\n",
       "       [ 4.326619 ],\n",
       "       [ 4.3512926],\n",
       "       [ 4.4723854],\n",
       "       [ 4.609617 ],\n",
       "       [ 4.732006 ],\n",
       "       [ 4.9385095],\n",
       "       [ 5.0634036],\n",
       "       [ 4.9773755],\n",
       "       [ 4.91151  ],\n",
       "       [ 4.811508 ],\n",
       "       [ 4.5334296],\n",
       "       [ 4.111466 ],\n",
       "       [ 3.8756342],\n",
       "       [ 3.679991 ],\n",
       "       [ 3.5860155],\n",
       "       [ 3.4701266],\n",
       "       [ 3.468681 ],\n",
       "       [ 3.4926279],\n",
       "       [ 3.5260541],\n",
       "       [ 3.6322002],\n",
       "       [ 3.6538906],\n",
       "       [ 3.598022 ],\n",
       "       [ 3.5534968],\n",
       "       [ 3.548963 ],\n",
       "       [ 3.443768 ],\n",
       "       [ 3.391227 ],\n",
       "       [ 3.3211684],\n",
       "       [ 3.2808936],\n",
       "       [ 3.2017384],\n",
       "       [ 3.0992608],\n",
       "       [ 3.0107403],\n",
       "       [ 2.9566107],\n",
       "       [ 2.93175  ],\n",
       "       [ 2.8656776],\n",
       "       [ 2.7936087],\n",
       "       [ 2.6686847],\n",
       "       [ 2.6406193],\n",
       "       [ 2.7310238],\n",
       "       [ 2.761313 ],\n",
       "       [ 2.7495112],\n",
       "       [ 2.7548215],\n",
       "       [ 2.7602878],\n",
       "       [ 2.7159867],\n",
       "       [ 2.7231202],\n",
       "       [ 2.767066 ],\n",
       "       [ 2.7577016],\n",
       "       [ 2.712892 ],\n",
       "       [ 2.6750865],\n",
       "       [ 2.6901443],\n",
       "       [ 2.7537682],\n",
       "       [ 2.837    ],\n",
       "       [ 2.9742105],\n",
       "       [ 3.078873 ],\n",
       "       [ 3.1918232],\n",
       "       [ 3.3596666],\n",
       "       [ 3.6504736],\n",
       "       [ 3.8548243],\n",
       "       [ 3.8603878],\n",
       "       [ 3.9014878],\n",
       "       [ 3.950876 ],\n",
       "       [ 4.073174 ],\n",
       "       [ 4.320422 ],\n",
       "       [ 4.492629 ],\n",
       "       [ 4.540244 ],\n",
       "       [ 4.6429973],\n",
       "       [ 4.6498275],\n",
       "       [ 4.6553664],\n",
       "       [ 4.6007233],\n",
       "       [ 4.5729876],\n",
       "       [ 4.5364833],\n",
       "       [ 4.452676 ],\n",
       "       [ 4.3563304],\n",
       "       [ 4.367468 ],\n",
       "       [ 4.361326 ],\n",
       "       [ 4.300134 ],\n",
       "       [ 4.3049245],\n",
       "       [ 4.300134 ],\n",
       "       [ 4.222354 ],\n",
       "       [ 4.120387 ],\n",
       "       [ 3.9918246],\n",
       "       [ 3.8495395],\n",
       "       [ 3.7713554],\n",
       "       [ 3.7624626],\n",
       "       [ 3.792763 ],\n",
       "       [ 3.7988868],\n",
       "       [ 3.6560547],\n",
       "       [ 3.4877884],\n",
       "       [ 3.3275902],\n",
       "       [ 3.2866504],\n",
       "       [ 3.311803 ],\n",
       "       [ 3.4234774],\n",
       "       [ 3.508531 ],\n",
       "       [ 3.5541918],\n",
       "       [ 3.6932986],\n",
       "       [ 3.8193717],\n",
       "       [ 3.922432 ],\n",
       "       [ 4.011898 ],\n",
       "       [ 4.0198026],\n",
       "       [ 3.9716396],\n",
       "       [ 3.9227579],\n",
       "       [ 3.851454 ],\n",
       "       [ 3.6184828],\n",
       "       [ 3.4628613],\n",
       "       [ 3.4342604],\n",
       "       [ 3.4719465],\n",
       "       [ 3.5029223],\n",
       "       [ 3.5521894],\n",
       "       [ 3.5413654],\n",
       "       [ 3.5125713],\n",
       "       [ 3.456427 ],\n",
       "       [ 3.4326525],\n",
       "       [ 3.462228 ],\n",
       "       [ 3.4908931],\n",
       "       [ 3.6709723],\n",
       "       [ 3.8787925],\n",
       "       [ 4.004808 ],\n",
       "       [ 4.008624 ],\n",
       "       [ 3.9432025],\n",
       "       [ 3.837386 ],\n",
       "       [ 3.6501465],\n",
       "       [ 3.5242546],\n",
       "       [ 3.5001798],\n",
       "       [ 3.4768412],\n",
       "       [ 3.396094 ],\n",
       "       [ 3.3570735],\n",
       "       [ 3.3996115],\n",
       "       [ 3.4166286],\n",
       "       [ 3.4521055],\n",
       "       [ 3.5684059],\n",
       "       [ 3.76377  ],\n",
       "       [ 3.935105 ],\n",
       "       [ 4.1417923],\n",
       "       [ 4.344938 ],\n",
       "       [ 4.4917674],\n",
       "       [ 4.545934 ],\n",
       "       [ 4.5823927],\n",
       "       [ 4.18969  ],\n",
       "       [ 3.8220794],\n",
       "       [ 3.6760473],\n",
       "       [ 3.6951175],\n",
       "       [ 3.8191583],\n",
       "       [ 3.8725011],\n",
       "       [ 3.8683803],\n",
       "       [ 3.9005477],\n",
       "       [ 3.9576213],\n",
       "       [ 3.9873035],\n",
       "       [ 3.971395 ],\n",
       "       [ 3.975089 ],\n",
       "       [ 4.089904 ],\n",
       "       [ 4.1961527],\n",
       "       [ 4.1850224],\n",
       "       [ 4.1844273],\n",
       "       [ 4.1456156],\n",
       "       [ 4.14607  ],\n",
       "       [ 4.1559258],\n",
       "       [ 4.082976 ],\n",
       "       [ 4.0325193],\n",
       "       [ 3.987047 ],\n",
       "       [ 3.943792 ],\n",
       "       [ 3.9253619],\n",
       "       [ 3.9021654],\n",
       "       [ 3.9169135],\n",
       "       [ 3.8636684],\n",
       "       [ 3.8106494],\n",
       "       [ 3.7102463],\n",
       "       [ 3.6231873],\n",
       "       [ 3.561658 ],\n",
       "       [ 3.5675511],\n",
       "       [ 3.5626748],\n",
       "       [ 3.5794952],\n",
       "       [ 3.5716093],\n",
       "       [ 3.5718637],\n",
       "       [ 3.4786904],\n",
       "       [ 3.3972785],\n",
       "       [ 3.3043516],\n",
       "       [ 3.2421062],\n",
       "       [ 3.1834083],\n",
       "       [ 3.1585941],\n",
       "       [ 3.12892  ],\n",
       "       [ 3.1093178],\n",
       "       [ 3.0996225],\n",
       "       [ 3.0887809],\n",
       "       [ 3.0660427],\n",
       "       [ 3.08833  ],\n",
       "       [ 3.1160254],\n",
       "       [ 3.1552942],\n",
       "       [ 3.192119 ],\n",
       "       [ 3.2440555],\n",
       "       [ 3.2835677],\n",
       "       [ 3.3705788],\n",
       "       [ 3.474812 ],\n",
       "       [ 3.509176 ],\n",
       "       [ 3.4444404],\n",
       "       [ 3.3359582],\n",
       "       [ 3.2361028],\n",
       "       [ 3.1681082],\n",
       "       [ 3.1271715],\n",
       "       [ 3.0665617],\n",
       "       [ 3.0282595],\n",
       "       [ 2.9978526],\n",
       "       [ 2.9548357],\n",
       "       [ 2.9895196],\n",
       "       [ 2.989514 ],\n",
       "       [ 3.0350957],\n",
       "       [ 3.1012487],\n",
       "       [ 3.146577 ],\n",
       "       [ 3.1752381],\n",
       "       [ 3.1750429],\n",
       "       [ 3.130091 ],\n",
       "       [ 3.0890925],\n",
       "       [ 3.06526  ],\n",
       "       [ 3.0519645],\n",
       "       [ 2.9910471],\n",
       "       [ 2.9667928],\n",
       "       [ 2.9389262],\n",
       "       [ 2.8863719],\n",
       "       [ 2.80806  ],\n",
       "       [ 2.7202182],\n",
       "       [ 2.67024  ],\n",
       "       [ 2.67354  ],\n",
       "       [ 2.6937068],\n",
       "       [ 2.6973011],\n",
       "       [ 2.6594148],\n",
       "       [ 2.650955 ],\n",
       "       [ 2.6385214],\n",
       "       [ 2.626302 ],\n",
       "       [ 2.5629067],\n",
       "       [ 2.4646306],\n",
       "       [ 2.3571427],\n",
       "       [ 2.2646687],\n",
       "       [ 2.1874037],\n",
       "       [ 2.140511 ],\n",
       "       [ 2.139405 ],\n",
       "       [ 2.1214674],\n",
       "       [ 2.0475276],\n",
       "       [ 1.9870884],\n",
       "       [ 1.9292383],\n",
       "       [ 1.8782387],\n",
       "       [ 1.8663673],\n",
       "       [ 1.9116588],\n",
       "       [ 1.9415925],\n",
       "       [ 1.9258986],\n",
       "       [ 1.8877528],\n",
       "       [ 1.8251839],\n",
       "       [ 1.7820373],\n",
       "       [ 1.7267785],\n",
       "       [ 1.659895 ],\n",
       "       [ 1.5983534],\n",
       "       [ 1.529119 ],\n",
       "       [ 1.4820404],\n",
       "       [ 1.4653244],\n",
       "       [ 1.4617043],\n",
       "       [ 1.4375639],\n",
       "       [ 1.3980999],\n",
       "       [ 1.3630819]], dtype=float32)"
      ]
     },
     "execution_count": 18,
     "metadata": {},
     "output_type": "execute_result"
    }
   ],
   "source": [
    "prev = model.predict(X_test)\n",
    "prev = scaler.inverse_transform(prev)\n",
    "prev"
   ]
  },
  {
   "cell_type": "markdown",
   "id": "dd1d07ee",
   "metadata": {},
   "source": [
    "## 6. Previsão para os Próximos Dez Dias Úteis"
   ]
  },
  {
   "cell_type": "markdown",
   "id": "bfdbeed1",
   "metadata": {},
   "source": [
    "### Pegar os ultimos dias (tamanho do step 15 dias)"
   ]
  },
  {
   "cell_type": "code",
   "execution_count": 19,
   "id": "c19abd7e",
   "metadata": {},
   "outputs": [
    {
     "data": {
      "text/plain": [
       "734"
      ]
     },
     "execution_count": 19,
     "metadata": {},
     "output_type": "execute_result"
    }
   ],
   "source": [
    "lenght_test = len(test)\n",
    "lenght_test"
   ]
  },
  {
   "cell_type": "code",
   "execution_count": 20,
   "id": "94ce1919",
   "metadata": {},
   "outputs": [
    {
     "data": {
      "text/plain": [
       "719"
      ]
     },
     "execution_count": 20,
     "metadata": {},
     "output_type": "execute_result"
    }
   ],
   "source": [
    "days_input_steps = lenght_test-steps\n",
    "days_input_steps"
   ]
  },
  {
   "cell_type": "markdown",
   "id": "e380bda8",
   "metadata": {},
   "source": [
    "### Converter days_input_steps em um Array"
   ]
  },
  {
   "cell_type": "code",
   "execution_count": 21,
   "id": "9ef33e46",
   "metadata": {},
   "outputs": [
    {
     "data": {
      "text/plain": [
       "array([[-0.55532547, -0.56921719, -0.5636605 , -0.58033058, -0.5900548 ,\n",
       "        -0.59422231, -0.60811405, -0.60394651, -0.599779  , -0.60116817,\n",
       "        -0.61367073, -0.61922742, -0.61922742, -0.59700066, -0.6053357 ]])"
      ]
     },
     "execution_count": 21,
     "metadata": {},
     "output_type": "execute_result"
    }
   ],
   "source": [
    "input_steps = test[days_input_steps:]\n",
    "input_steps = np.array(input_steps).reshape(1,-1)\n",
    "input_steps"
   ]
  },
  {
   "cell_type": "markdown",
   "id": "21d631cc",
   "metadata": {},
   "source": [
    "### Converter input_steps em uma Lista"
   ]
  },
  {
   "cell_type": "code",
   "execution_count": 22,
   "id": "6ce7a8d9",
   "metadata": {},
   "outputs": [
    {
     "data": {
      "text/plain": [
       "[-0.5553254677699977,\n",
       " -0.5692171859726504,\n",
       " -0.5636604986915893,\n",
       " -0.5803305770950069,\n",
       " -0.5900547963970981,\n",
       " -0.594222311857894,\n",
       " -0.6081140466207811,\n",
       " -0.6039465145997508,\n",
       " -0.599778999138955,\n",
       " -0.6011681709592203,\n",
       " -0.6136707339018421,\n",
       " -0.6192274211829032,\n",
       " -0.6192274211829032,\n",
       " -0.5970006554984245,\n",
       " -0.6053357029802505]"
      ]
     },
     "execution_count": 22,
     "metadata": {},
     "output_type": "execute_result"
    }
   ],
   "source": [
    "list_output_steps = list(input_steps)\n",
    "list_output_steps = list_output_steps[0].tolist()\n",
    "list_output_steps"
   ]
  },
  {
   "cell_type": "markdown",
   "id": "33f4030c",
   "metadata": {},
   "source": [
    "### Loop para Realizar Previsões para os Próximos 10 Dias"
   ]
  },
  {
   "cell_type": "code",
   "execution_count": 23,
   "id": "ae3a768f",
   "metadata": {},
   "outputs": [
    {
     "name": "stdout",
     "output_type": "stream",
     "text": [
      "[-0.60876226]\n",
      "16\n",
      "1 dia. Valores de entrada -> [-0.56921719 -0.5636605  -0.58033058 -0.5900548  -0.59422231 -0.60811405\n",
      " -0.60394651 -0.599779   -0.60116817 -0.61367073 -0.61922742 -0.61922742\n",
      " -0.59700066 -0.6053357  -0.60876226]\n",
      "1 dia. Valor previsto -> [[-0.60789895]]\n",
      "2 dia. Valores de entrada -> [-0.5636605  -0.58033058 -0.5900548  -0.59422231 -0.60811405 -0.60394651\n",
      " -0.599779   -0.60116817 -0.61367073 -0.61922742 -0.61922742 -0.59700066\n",
      " -0.6053357  -0.60876226 -0.60789895]\n",
      "2 dia. Valor previsto -> [[-0.6080782]]\n",
      "3 dia. Valores de entrada -> [-0.58033058 -0.5900548  -0.59422231 -0.60811405 -0.60394651 -0.599779\n",
      " -0.60116817 -0.61367073 -0.61922742 -0.61922742 -0.59700066 -0.6053357\n",
      " -0.60876226 -0.60789895 -0.60807818]\n",
      "3 dia. Valor previsto -> [[-0.60857797]]\n",
      "4 dia. Valores de entrada -> [-0.5900548  -0.59422231 -0.60811405 -0.60394651 -0.599779   -0.60116817\n",
      " -0.61367073 -0.61922742 -0.61922742 -0.59700066 -0.6053357  -0.60876226\n",
      " -0.60789895 -0.60807818 -0.60857797]\n",
      "4 dia. Valor previsto -> [[-0.6091324]]\n",
      "5 dia. Valores de entrada -> [-0.59422231 -0.60811405 -0.60394651 -0.599779   -0.60116817 -0.61367073\n",
      " -0.61922742 -0.61922742 -0.59700066 -0.6053357  -0.60876226 -0.60789895\n",
      " -0.60807818 -0.60857797 -0.60913241]\n",
      "5 dia. Valor previsto -> [[-0.60970974]]\n",
      "6 dia. Valores de entrada -> [-0.60811405 -0.60394651 -0.599779   -0.60116817 -0.61367073 -0.61922742\n",
      " -0.61922742 -0.59700066 -0.6053357  -0.60876226 -0.60789895 -0.60807818\n",
      " -0.60857797 -0.60913241 -0.60970974]\n",
      "6 dia. Valor previsto -> [[-0.6103046]]\n",
      "7 dia. Valores de entrada -> [-0.60394651 -0.599779   -0.60116817 -0.61367073 -0.61922742 -0.61922742\n",
      " -0.59700066 -0.6053357  -0.60876226 -0.60789895 -0.60807818 -0.60857797\n",
      " -0.60913241 -0.60970974 -0.61030459]\n",
      "7 dia. Valor previsto -> [[-0.6108929]]\n",
      "8 dia. Valores de entrada -> [-0.599779   -0.60116817 -0.61367073 -0.61922742 -0.61922742 -0.59700066\n",
      " -0.6053357  -0.60876226 -0.60789895 -0.60807818 -0.60857797 -0.60913241\n",
      " -0.60970974 -0.61030459 -0.61089289]\n",
      "8 dia. Valor previsto -> [[-0.61150557]]\n",
      "9 dia. Valores de entrada -> [-0.60116817 -0.61367073 -0.61922742 -0.61922742 -0.59700066 -0.6053357\n",
      " -0.60876226 -0.60789895 -0.60807818 -0.60857797 -0.60913241 -0.60970974\n",
      " -0.61030459 -0.61089289 -0.61150557]\n",
      "9 dia. Valor previsto -> [[-0.61213696]]\n",
      "[[-0.608762264251709], [-0.6078989505767822], [-0.6080781817436218], [-0.6085779666900635], [-0.6091324090957642], [-0.6097097396850586], [-0.610304594039917], [-0.6108928918838501], [-0.6115055680274963], [-0.612136960029602]]\n"
     ]
    }
   ],
   "source": [
    "pred_output =[]\n",
    "i=0\n",
    "n_future=10\n",
    "while(i < n_future):\n",
    "\n",
    "  if (len(list_output_steps)>steps):\n",
    "\n",
    "    input_steps = np.array(list_output_steps[1:])\n",
    "    print(\"{} dia. Valores de entrada -> {}\".format(i,input_steps))\n",
    "    input_steps = input_steps.reshape(1,-1)\n",
    "    input_steps = input_steps.reshape((1, steps, 1))\n",
    "\n",
    "    pred = model.predict(input_steps, verbose=0)\n",
    "    print(\"{} dia. Valor previsto -> {}\".format(i,pred))\n",
    "    list_output_steps.extend(pred[0].tolist())\n",
    "    list_output_steps= list_output_steps[1:]\n",
    "\n",
    "    pred_output.extend(pred.tolist())\n",
    "    i=i+1\n",
    "\n",
    "  else:\n",
    "    input_steps = input_steps.reshape((1, steps, 1))\n",
    "    pred =model.predict(input_steps, verbose=0)\n",
    "    print(pred[0])\n",
    "    list_output_steps.extend(pred[0].tolist())\n",
    "    print(len(list_output_steps))\n",
    "    pred_output.extend(pred.tolist())\n",
    "    i=i+1\n",
    "\n",
    "print(pred_output)"
   ]
  },
  {
   "cell_type": "markdown",
   "id": "8f0a8baa",
   "metadata": {},
   "source": [
    "### Transformar a Saída"
   ]
  },
  {
   "cell_type": "code",
   "execution_count": 24,
   "id": "0d33acee",
   "metadata": {},
   "outputs": [
    {
     "data": {
      "text/plain": [
       "[1.405333754686466,\n",
       " 1.411548341240934,\n",
       " 1.410258140897846,\n",
       " 1.4066604256079254,\n",
       " 1.4026692571372221,\n",
       " 1.3985133274654062,\n",
       " 1.3942312524989884,\n",
       " 1.3899963747516395,\n",
       " 1.3855860091624805,\n",
       " 1.3810409169661613]"
      ]
     },
     "execution_count": 24,
     "metadata": {},
     "output_type": "execute_result"
    }
   ],
   "source": [
    "prev = scaler.inverse_transform(pred_output)\n",
    "prev = np.array(prev).reshape(1,-1)\n",
    "list_output_prev = list(prev)\n",
    "list_output_prev = prev[0].tolist()\n",
    "list_output_prev"
   ]
  },
  {
   "cell_type": "markdown",
   "id": "3e7ca3d1",
   "metadata": {},
   "source": [
    "### Obter as datas de previsão para os próximos dez dias"
   ]
  },
  {
   "cell_type": "code",
   "execution_count": 25,
   "id": "cd0e358c",
   "metadata": {},
   "outputs": [],
   "source": [
    "mglu.reset_index(inplace=True)\n"
   ]
  },
  {
   "cell_type": "code",
   "execution_count": 26,
   "id": "54c157d5",
   "metadata": {},
   "outputs": [
    {
     "data": {
      "text/plain": [
       "[Timestamp('2023-11-07 00:00:00', freq='B'),\n",
       " Timestamp('2023-11-08 00:00:00', freq='B'),\n",
       " Timestamp('2023-11-09 00:00:00', freq='B'),\n",
       " Timestamp('2023-11-10 00:00:00', freq='B'),\n",
       " Timestamp('2023-11-13 00:00:00', freq='B'),\n",
       " Timestamp('2023-11-14 00:00:00', freq='B'),\n",
       " Timestamp('2023-11-15 00:00:00', freq='B'),\n",
       " Timestamp('2023-11-16 00:00:00', freq='B'),\n",
       " Timestamp('2023-11-17 00:00:00', freq='B'),\n",
       " Timestamp('2023-11-20 00:00:00', freq='B')]"
      ]
     },
     "execution_count": 26,
     "metadata": {},
     "output_type": "execute_result"
    }
   ],
   "source": [
    "predict_dates = pd.date_range(list(mglu[\"Date\"])[-1] + pd.DateOffset(1), periods=10, freq=\"b\").tolist()\n",
    "predict_dates"
   ]
  },
  {
   "cell_type": "markdown",
   "id": "3277d85c",
   "metadata": {},
   "source": [
    "### Criando o dataframe de previsões"
   ]
  },
  {
   "cell_type": "code",
   "execution_count": 27,
   "id": "280ab527",
   "metadata": {},
   "outputs": [
    {
     "data": {
      "text/html": [
       "<div>\n",
       "<style scoped>\n",
       "    .dataframe tbody tr th:only-of-type {\n",
       "        vertical-align: middle;\n",
       "    }\n",
       "\n",
       "    .dataframe tbody tr th {\n",
       "        vertical-align: top;\n",
       "    }\n",
       "\n",
       "    .dataframe thead th {\n",
       "        text-align: right;\n",
       "    }\n",
       "</style>\n",
       "<table border=\"1\" class=\"dataframe\">\n",
       "  <thead>\n",
       "    <tr style=\"text-align: right;\">\n",
       "      <th></th>\n",
       "      <th>Close</th>\n",
       "    </tr>\n",
       "  </thead>\n",
       "  <tbody>\n",
       "    <tr>\n",
       "      <th>2023-11-07</th>\n",
       "      <td>1.405334</td>\n",
       "    </tr>\n",
       "    <tr>\n",
       "      <th>2023-11-08</th>\n",
       "      <td>1.411548</td>\n",
       "    </tr>\n",
       "    <tr>\n",
       "      <th>2023-11-09</th>\n",
       "      <td>1.410258</td>\n",
       "    </tr>\n",
       "    <tr>\n",
       "      <th>2023-11-10</th>\n",
       "      <td>1.406660</td>\n",
       "    </tr>\n",
       "    <tr>\n",
       "      <th>2023-11-13</th>\n",
       "      <td>1.402669</td>\n",
       "    </tr>\n",
       "    <tr>\n",
       "      <th>2023-11-14</th>\n",
       "      <td>1.398513</td>\n",
       "    </tr>\n",
       "    <tr>\n",
       "      <th>2023-11-15</th>\n",
       "      <td>1.394231</td>\n",
       "    </tr>\n",
       "    <tr>\n",
       "      <th>2023-11-16</th>\n",
       "      <td>1.389996</td>\n",
       "    </tr>\n",
       "    <tr>\n",
       "      <th>2023-11-17</th>\n",
       "      <td>1.385586</td>\n",
       "    </tr>\n",
       "    <tr>\n",
       "      <th>2023-11-20</th>\n",
       "      <td>1.381041</td>\n",
       "    </tr>\n",
       "  </tbody>\n",
       "</table>\n",
       "</div>"
      ],
      "text/plain": [
       "               Close\n",
       "2023-11-07  1.405334\n",
       "2023-11-08  1.411548\n",
       "2023-11-09  1.410258\n",
       "2023-11-10  1.406660\n",
       "2023-11-13  1.402669\n",
       "2023-11-14  1.398513\n",
       "2023-11-15  1.394231\n",
       "2023-11-16  1.389996\n",
       "2023-11-17  1.385586\n",
       "2023-11-20  1.381041"
      ]
     },
     "execution_count": 27,
     "metadata": {},
     "output_type": "execute_result"
    }
   ],
   "source": [
    "forecast_dates = []\n",
    "for i in predict_dates:\n",
    "  forecast_dates.append(i.date())\n",
    "\n",
    "df_forecast = pd.DataFrame({\"Date\": np.array(forecast_dates), \"Close\": list_output_prev})\n",
    "df_forecast[\"Date\"] = pd.to_datetime(df_forecast[\"Date\"])\n",
    "\n",
    "df_forecast=df_forecast.set_index(pd.DatetimeIndex(df_forecast[\"Date\"].values))\n",
    "df_forecast.drop(\"Date\", axis=1, inplace=True)\n",
    "df_forecast"
   ]
  },
  {
   "cell_type": "markdown",
   "id": "89446f66",
   "metadata": {},
   "source": [
    "### Gráfico de previsão para os próximos 10 dias"
   ]
  },
  {
   "cell_type": "code",
   "execution_count": 29,
   "id": "8aba1f93",
   "metadata": {},
   "outputs": [
    {
     "data": {
      "image/png": "[encoded data removed]",
      "text/plain": [
       "<Figure size 1152x576 with 1 Axes>"
      ]
     },
     "metadata": {
      "needs_background": "light"
     },
     "output_type": "display_data"
    }
   ],
   "source": [
    "plt.figure(figsize=(16,8))\n",
    "plt.plot(mglu_fechamento[\"Close\"][2400:])\n",
    "plt.plot(df_forecast[\"Close\"])\n",
    "plt.legend([\"Preco fechamento\", \"Preco previsto 10 dias\"])\n",
    "plt.show()"
   ]
  },
  {
   "cell_type": "markdown",
   "id": "cfea3d63",
   "metadata": {},
   "source": [
    "## 6. Conclusão"
   ]
  },
  {
   "cell_type": "markdown",
   "id": "d14e7333",
   "metadata": {},
   "source": [
    "- O modelo é capaz de fornecer uma visão da previsão para os próximos 10 dias. Prever o preço das ações é uma tarefa notoriamente desafiadora. No entanto, o modelo pode ser capaz de acertar a direção do movimento do preço na maioria das vezes, mas nem sempre.\n",
    "\n",
    "\n",
    "- É possível   ajustar o número de neurônios, incorporar camadas ocultas adicionais ou aumentar o número de épocas para avaliar seu impacto no desempenho do modelo.\n",
    "\n",
    "\n",
    "- É viável incorporar informações de outros ativos, como a VIIA3, o Índice Bovespa e a cotação USD/BRL, para verificar se existe correlação entre eles e se influenciam o preço do ativo MGLU3."
   ]
  },
  {
   "cell_type": "code",
   "execution_count": null,
   "id": "7ec34965",
   "metadata": {},
   "outputs": [],
   "source": []
  }
 ],
 "metadata": {
  "kernelspec": {
   "display_name": "Python 3 (ipykernel)",
   "language": "python",
   "name": "python3"
  },
  "language_info": {
   "codemirror_mode": {
    "name": "ipython",
    "version": 3
   },
   "file_extension": ".py",
   "mimetype": "text/x-python",
   "name": "python",
   "nbconvert_exporter": "python",
   "pygments_lexer": "ipython3",
   "version": "3.9.7"
  }
 },
 "nbformat": 4,
 "nbformat_minor": 5
}
